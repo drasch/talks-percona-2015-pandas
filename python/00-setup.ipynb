{
 "metadata": {
  "name": "",
  "signature": "sha256:da121042b02a948566621808834ef01ba118747e40e866525f3293d3be14048d"
 },
 "nbformat": 3,
 "nbformat_minor": 0,
 "worksheets": [
  {
   "cells": [
    {
     "cell_type": "heading",
     "level": 1,
     "metadata": {},
     "source": [
      "00 - Download Data and Prepare"
     ]
    },
    {
     "cell_type": "markdown",
     "metadata": {},
     "source": [
      "We're goint to use the National Baby Names dataset data from the [SocialSecurity Administration](http://www.ssa.gov/oact/babynames/limits.html)."
     ]
    },
    {
     "cell_type": "code",
     "collapsed": false,
     "input": [
      "import pandas as pd"
     ],
     "language": "python",
     "metadata": {},
     "outputs": []
    },
    {
     "cell_type": "code",
     "collapsed": false,
     "input": [
      "%%bash\n",
      "wget -O names.zip http://www.ssa.gov/oact/babynames/names.zip"
     ],
     "language": "python",
     "metadata": {},
     "outputs": []
    },
    {
     "cell_type": "code",
     "collapsed": false,
     "input": [
      "%%bash\n",
      "mkdir names\n",
      "cd names\n",
      "unzip ../names.zip"
     ],
     "language": "python",
     "metadata": {},
     "outputs": []
    },
    {
     "cell_type": "code",
     "collapsed": false,
     "input": [
      "from glob import glob"
     ],
     "language": "python",
     "metadata": {},
     "outputs": []
    },
    {
     "cell_type": "code",
     "collapsed": false,
     "input": [
      "df = None\n",
      "for f in glob(\"names/yob*.txt\"):\n",
      "    csv = pd.read_csv(f, header=None)\n",
      "    csv[\"year\"] = int(f[9:13])\n",
      "    if df is None:\n",
      "        df = csv\n",
      "    else:        \n",
      "        df = df.append(csv, ignore_index=True)\n",
      "\n",
      "df.columns = \"name gender count year\".split()"
     ],
     "language": "python",
     "metadata": {},
     "outputs": []
    },
    {
     "cell_type": "code",
     "collapsed": false,
     "input": [
      "df.to_csv(\"names_combined.csv\", index=False)"
     ],
     "language": "python",
     "metadata": {},
     "outputs": []
    },
    {
     "cell_type": "code",
     "collapsed": false,
     "input": [
      "%%bash\n",
      "rm -f names_combined.csv.gz\n",
      "gzip names_combined.csv"
     ],
     "language": "python",
     "metadata": {},
     "outputs": []
    },
    {
     "cell_type": "code",
     "collapsed": false,
     "input": [
      "%%bash\n",
      "rm -rf ./names/\n",
      "rm -f names.zip"
     ],
     "language": "python",
     "metadata": {},
     "outputs": []
    },
    {
     "cell_type": "code",
     "collapsed": false,
     "input": [
      "#pd.read_csv(\"names_combined.csv.gz\", compression=\"gzip\")"
     ],
     "language": "python",
     "metadata": {},
     "outputs": []
    },
    {
     "cell_type": "code",
     "collapsed": false,
     "input": [],
     "language": "python",
     "metadata": {},
     "outputs": []
    }
   ],
   "metadata": {}
  }
 ]
}